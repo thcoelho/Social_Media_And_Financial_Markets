{
 "cells": [
  {
   "cell_type": "markdown",
   "id": "e378cac3",
   "metadata": {},
   "source": [
    "Importação de bibliotecas"
   ]
  },
  {
   "cell_type": "code",
   "execution_count": 2,
   "id": "25af76d9-0010-4459-89d3-72ab5e279a98",
   "metadata": {},
   "outputs": [],
   "source": [
    "import tweepy\n",
    "#import matplotlib.pyplot as plt\n",
    "import pandas as pd\n",
    "import numpy as np\n",
    "import yfinance as yf"
   ]
  },
  {
   "cell_type": "markdown",
   "id": "a0ff3748",
   "metadata": {},
   "source": [
    "### Valores do IBOVESPA"
   ]
  },
  {
   "cell_type": "code",
   "execution_count": 3,
   "id": "6b718474",
   "metadata": {},
   "outputs": [
    {
     "data": {
      "text/html": [
       "<div>\n",
       "<style scoped>\n",
       "    .dataframe tbody tr th:only-of-type {\n",
       "        vertical-align: middle;\n",
       "    }\n",
       "\n",
       "    .dataframe tbody tr th {\n",
       "        vertical-align: top;\n",
       "    }\n",
       "\n",
       "    .dataframe thead th {\n",
       "        text-align: right;\n",
       "    }\n",
       "</style>\n",
       "<table border=\"1\" class=\"dataframe\">\n",
       "  <thead>\n",
       "    <tr style=\"text-align: right;\">\n",
       "      <th></th>\n",
       "      <th>Close</th>\n",
       "      <th>Retornos</th>\n",
       "    </tr>\n",
       "    <tr>\n",
       "      <th>Date</th>\n",
       "      <th></th>\n",
       "      <th></th>\n",
       "    </tr>\n",
       "  </thead>\n",
       "  <tbody>\n",
       "    <tr>\n",
       "      <th>2021-01-04</th>\n",
       "      <td>118558.0</td>\n",
       "      <td>NaN</td>\n",
       "    </tr>\n",
       "    <tr>\n",
       "      <th>2021-01-05</th>\n",
       "      <td>119223.0</td>\n",
       "      <td>0.005609</td>\n",
       "    </tr>\n",
       "    <tr>\n",
       "      <th>2021-01-06</th>\n",
       "      <td>119851.0</td>\n",
       "      <td>0.005267</td>\n",
       "    </tr>\n",
       "    <tr>\n",
       "      <th>2021-01-07</th>\n",
       "      <td>121956.0</td>\n",
       "      <td>0.017563</td>\n",
       "    </tr>\n",
       "    <tr>\n",
       "      <th>2021-01-08</th>\n",
       "      <td>125077.0</td>\n",
       "      <td>0.025591</td>\n",
       "    </tr>\n",
       "    <tr>\n",
       "      <th>...</th>\n",
       "      <td>...</td>\n",
       "      <td>...</td>\n",
       "    </tr>\n",
       "    <tr>\n",
       "      <th>2021-12-23</th>\n",
       "      <td>104891.0</td>\n",
       "      <td>-0.003354</td>\n",
       "    </tr>\n",
       "    <tr>\n",
       "      <th>2021-12-27</th>\n",
       "      <td>105531.0</td>\n",
       "      <td>0.006102</td>\n",
       "    </tr>\n",
       "    <tr>\n",
       "      <th>2021-12-28</th>\n",
       "      <td>104864.0</td>\n",
       "      <td>-0.006320</td>\n",
       "    </tr>\n",
       "    <tr>\n",
       "      <th>2021-12-29</th>\n",
       "      <td>104107.0</td>\n",
       "      <td>-0.007219</td>\n",
       "    </tr>\n",
       "    <tr>\n",
       "      <th>2021-12-30</th>\n",
       "      <td>104822.0</td>\n",
       "      <td>0.006868</td>\n",
       "    </tr>\n",
       "  </tbody>\n",
       "</table>\n",
       "<p>247 rows × 2 columns</p>\n",
       "</div>"
      ],
      "text/plain": [
       "               Close  Retornos\n",
       "Date                          \n",
       "2021-01-04  118558.0       NaN\n",
       "2021-01-05  119223.0  0.005609\n",
       "2021-01-06  119851.0  0.005267\n",
       "2021-01-07  121956.0  0.017563\n",
       "2021-01-08  125077.0  0.025591\n",
       "...              ...       ...\n",
       "2021-12-23  104891.0 -0.003354\n",
       "2021-12-27  105531.0  0.006102\n",
       "2021-12-28  104864.0 -0.006320\n",
       "2021-12-29  104107.0 -0.007219\n",
       "2021-12-30  104822.0  0.006868\n",
       "\n",
       "[247 rows x 2 columns]"
      ]
     },
     "execution_count": 3,
     "metadata": {},
     "output_type": "execute_result"
    }
   ],
   "source": [
    "# Pegar histórico de preços\n",
    "IBOV = yf.Ticker(\"^BVSP\").history(start=\"2021-01-01\",end=\"2022-01-01\",interval=\"1d\")[\"Close\"]\n",
    "\n",
    "# Transformar em DataFrame\n",
    "IBOV = pd.DataFrame(IBOV)\n",
    "\n",
    "# Criar coluna para Retornos\n",
    "IBOV[\"Retornos\"] = IBOV[\"Close\"].pct_change()\n",
    "\n",
    "# Printar DataFrame\n",
    "IBOV"
   ]
  },
  {
   "cell_type": "markdown",
   "id": "e3c34f71",
   "metadata": {},
   "source": [
    "### Código para Obtenção de tweets "
   ]
  },
  {
   "cell_type": "code",
   "execution_count": 4,
   "id": "e9c58064",
   "metadata": {},
   "outputs": [],
   "source": [
    "# Obter Tokens \n",
    "with open(\"Twitter_API.txt\", \"r\", encoding=\"utf-8\") as f:\n",
    "    Tokens =  f.readlines()\n",
    "    f.close()\n",
    "\n",
    "# Inicializar objeto Client para pesquisa de Tweets\n",
    "Cliente = tweepy.Client(bearer_token=Tokens[-1], access_token=Tokens[1], access_token_secret=Tokens[4])"
   ]
  },
  {
   "cell_type": "code",
   "execution_count": 32,
   "id": "d0d92b0e",
   "metadata": {},
   "outputs": [
    {
     "data": {
      "text/plain": [
       "<Tweet id=1496136080176951305 text=Ibovespa futuro opera em alta, descolado do exterior; ADRs da Petrobras sobem 3,50% no pré-mercado de Nova York - InfoMoney https://t.co/BVwf8NGfOQ>"
      ]
     },
     "execution_count": 32,
     "metadata": {},
     "output_type": "execute_result"
    }
   ],
   "source": [
    "# Teste para pesquisa de 100 tweets dos últimos 7 dias\n",
    "resultados = Cliente.search_recent_tweets(\"Ibovespa\", max_results=100, tweet_fields=\"created_at\")\n",
    "\n",
    "# Printar último tweet obtido\n",
    "resultados.data[-1]"
   ]
  },
  {
   "cell_type": "code",
   "execution_count": null,
   "id": "4f645f12",
   "metadata": {},
   "outputs": [],
   "source": []
  }
 ],
 "metadata": {
  "kernelspec": {
   "display_name": "Python 3",
   "language": "python",
   "name": "python3"
  },
  "language_info": {
   "codemirror_mode": {
    "name": "ipython",
    "version": 3
   },
   "file_extension": ".py",
   "mimetype": "text/x-python",
   "name": "python",
   "nbconvert_exporter": "python",
   "pygments_lexer": "ipython3",
   "version": "3.9.7"
  }
 },
 "nbformat": 4,
 "nbformat_minor": 5
}
