{
 "cells": [
  {
   "cell_type": "code",
   "execution_count": 1,
   "metadata": {},
   "outputs": [],
   "source": [
    "import pandas as pd"
   ]
  },
  {
   "cell_type": "code",
   "execution_count": 52,
   "metadata": {},
   "outputs": [
    {
     "data": {
      "text/html": [
       "<div>\n",
       "<style scoped>\n",
       "    .dataframe tbody tr th:only-of-type {\n",
       "        vertical-align: middle;\n",
       "    }\n",
       "\n",
       "    .dataframe tbody tr th {\n",
       "        vertical-align: top;\n",
       "    }\n",
       "\n",
       "    .dataframe thead th {\n",
       "        text-align: right;\n",
       "    }\n",
       "</style>\n",
       "<table border=\"1\" class=\"dataframe\">\n",
       "  <thead>\n",
       "    <tr style=\"text-align: right;\">\n",
       "      <th></th>\n",
       "      <th>Tweets</th>\n",
       "      <th>Sentimento</th>\n",
       "      <th>Close</th>\n",
       "      <th>Retornos</th>\n",
       "    </tr>\n",
       "    <tr>\n",
       "      <th>Horario</th>\n",
       "      <th></th>\n",
       "      <th></th>\n",
       "      <th></th>\n",
       "      <th></th>\n",
       "    </tr>\n",
       "  </thead>\n",
       "  <tbody>\n",
       "    <tr>\n",
       "      <th>2022-03-02 03:00:00+00:00</th>\n",
       "      <td>RT @WatcherGuru: BREAKING: Airbnb CEO says the...</td>\n",
       "      <td>0.5994</td>\n",
       "      <td>44370.246094</td>\n",
       "      <td>NaN</td>\n",
       "    </tr>\n",
       "    <tr>\n",
       "      <th>2022-03-02 03:00:00+00:00</th>\n",
       "      <td>RT @nima33514465: @BluesparrowC @TheMoonCarl @...</td>\n",
       "      <td>0.3612</td>\n",
       "      <td>44370.246094</td>\n",
       "      <td>NaN</td>\n",
       "    </tr>\n",
       "    <tr>\n",
       "      <th>2022-03-02 03:00:00+00:00</th>\n",
       "      <td>RT @ICOAnnouncement: 🎙 New Featured Project\\r\\...</td>\n",
       "      <td>0.5859</td>\n",
       "      <td>44370.246094</td>\n",
       "      <td>NaN</td>\n",
       "    </tr>\n",
       "    <tr>\n",
       "      <th>2022-03-02 03:00:00+00:00</th>\n",
       "      <td>RT @AirdropStario: 💧 Farcana Airdrop 💧\\r\\n\\r\\n...</td>\n",
       "      <td>0.4753</td>\n",
       "      <td>44370.246094</td>\n",
       "      <td>NaN</td>\n",
       "    </tr>\n",
       "    <tr>\n",
       "      <th>2022-03-02 03:00:00+00:00</th>\n",
       "      <td>RT @AirdropStario: 💧 Farcana Airdrop 💧\\r\\n\\r\\n...</td>\n",
       "      <td>0.4753</td>\n",
       "      <td>44370.246094</td>\n",
       "      <td>NaN</td>\n",
       "    </tr>\n",
       "  </tbody>\n",
       "</table>\n",
       "</div>"
      ],
      "text/plain": [
       "                                                                      Tweets  \\\n",
       "Horario                                                                        \n",
       "2022-03-02 03:00:00+00:00  RT @WatcherGuru: BREAKING: Airbnb CEO says the...   \n",
       "2022-03-02 03:00:00+00:00  RT @nima33514465: @BluesparrowC @TheMoonCarl @...   \n",
       "2022-03-02 03:00:00+00:00  RT @ICOAnnouncement: 🎙 New Featured Project\\r\\...   \n",
       "2022-03-02 03:00:00+00:00  RT @AirdropStario: 💧 Farcana Airdrop 💧\\r\\n\\r\\n...   \n",
       "2022-03-02 03:00:00+00:00  RT @AirdropStario: 💧 Farcana Airdrop 💧\\r\\n\\r\\n...   \n",
       "\n",
       "                           Sentimento         Close  Retornos  \n",
       "Horario                                                        \n",
       "2022-03-02 03:00:00+00:00      0.5994  44370.246094       NaN  \n",
       "2022-03-02 03:00:00+00:00      0.3612  44370.246094       NaN  \n",
       "2022-03-02 03:00:00+00:00      0.5859  44370.246094       NaN  \n",
       "2022-03-02 03:00:00+00:00      0.4753  44370.246094       NaN  \n",
       "2022-03-02 03:00:00+00:00      0.4753  44370.246094       NaN  "
      ]
     },
     "execution_count": 52,
     "metadata": {},
     "output_type": "execute_result"
    }
   ],
   "source": [
    "# Ler e printar dados\n",
    "Dados = pd.read_csv(\"Data\\Base_Completa.csv\", sep=\";\", index_col=\"Horario\")\n",
    "Dados.head()"
   ]
  },
  {
   "cell_type": "code",
   "execution_count": 54,
   "metadata": {},
   "outputs": [
    {
     "data": {
      "text/plain": [
       "DatetimeIndex(['2022-03-02 03:00:00+00:00', '2022-03-02 03:00:00+00:00',\n",
       "               '2022-03-02 03:00:00+00:00', '2022-03-02 03:00:00+00:00',\n",
       "               '2022-03-02 03:00:00+00:00', '2022-03-02 03:00:00+00:00',\n",
       "               '2022-03-02 03:00:00+00:00', '2022-03-02 03:00:00+00:00',\n",
       "               '2022-03-02 03:00:00+00:00', '2022-03-02 03:00:00+00:00',\n",
       "               ...\n",
       "               '2022-04-06 02:00:00+00:00', '2022-04-06 02:00:00+00:00',\n",
       "               '2022-04-06 02:00:00+00:00', '2022-04-06 02:00:00+00:00',\n",
       "               '2022-04-06 02:00:00+00:00', '2022-04-06 02:00:00+00:00',\n",
       "               '2022-04-06 02:00:00+00:00', '2022-04-06 02:00:00+00:00',\n",
       "               '2022-04-06 02:00:00+00:00', '2022-04-06 02:00:00+00:00'],\n",
       "              dtype='datetime64[ns, UTC]', name='Horario', length=93178, freq=None)"
      ]
     },
     "execution_count": 54,
     "metadata": {},
     "output_type": "execute_result"
    }
   ],
   "source": [
    "# Transformar o índice em objeto de datas (DateTime)\n",
    "Dados.index = pd.to_datetime(Dados.index)\n",
    "Dados.index"
   ]
  },
  {
   "cell_type": "code",
   "execution_count": 56,
   "metadata": {},
   "outputs": [
    {
     "data": {
      "text/plain": [
       "Tweets          0\n",
       "Sentimento      0\n",
       "Close           0\n",
       "Retornos      100\n",
       "dtype: int64"
      ]
     },
     "execution_count": 56,
     "metadata": {},
     "output_type": "execute_result"
    }
   ],
   "source": [
    "# Existem dados faltantes?\n",
    "Dados.isna().sum()\n",
    "\n",
    "# Os 100 valores NA da coluna retornos são causados pelo cálculo da vairação percentual, que não podem ser feitos para\n",
    "# O primeiro ponto de dados, no caso, a primeira hora em que os tweets foram coletados."
   ]
  },
  {
   "cell_type": "code",
   "execution_count": 57,
   "metadata": {},
   "outputs": [
    {
     "data": {
      "text/plain": [
       "Tweets        0\n",
       "Sentimento    0\n",
       "Close         0\n",
       "Retornos      0\n",
       "dtype: int64"
      ]
     },
     "execution_count": 57,
     "metadata": {},
     "output_type": "execute_result"
    }
   ],
   "source": [
    "# Dropar as linhas com valores nulos\n",
    "Dados = Dados.dropna()\n",
    "Dados.isna().sum()"
   ]
  },
  {
   "cell_type": "code",
   "execution_count": 59,
   "metadata": {},
   "outputs": [
    {
     "data": {
      "text/html": [
       "<div>\n",
       "<style scoped>\n",
       "    .dataframe tbody tr th:only-of-type {\n",
       "        vertical-align: middle;\n",
       "    }\n",
       "\n",
       "    .dataframe tbody tr th {\n",
       "        vertical-align: top;\n",
       "    }\n",
       "\n",
       "    .dataframe thead th {\n",
       "        text-align: right;\n",
       "    }\n",
       "</style>\n",
       "<table border=\"1\" class=\"dataframe\">\n",
       "  <thead>\n",
       "    <tr style=\"text-align: right;\">\n",
       "      <th></th>\n",
       "      <th>Tweets</th>\n",
       "      <th>Sentimento</th>\n",
       "      <th>Close</th>\n",
       "      <th>Retornos</th>\n",
       "    </tr>\n",
       "    <tr>\n",
       "      <th>Horario</th>\n",
       "      <th></th>\n",
       "      <th></th>\n",
       "      <th></th>\n",
       "      <th></th>\n",
       "    </tr>\n",
       "  </thead>\n",
       "  <tbody>\n",
       "    <tr>\n",
       "      <th>2022-03-02 04:00:00+00:00</th>\n",
       "      <td>RT @BitcoinStimulus: $7,852 (+554%)\\r\\n\\r\\n#bi...</td>\n",
       "      <td>0.0000</td>\n",
       "      <td>44273.210938</td>\n",
       "      <td>-0.002187</td>\n",
       "    </tr>\n",
       "    <tr>\n",
       "      <th>2022-03-02 04:00:00+00:00</th>\n",
       "      <td>@TheMoonCarl You say you’re willing to gain we...</td>\n",
       "      <td>0.5994</td>\n",
       "      <td>44273.210938</td>\n",
       "      <td>-0.002187</td>\n",
       "    </tr>\n",
       "    <tr>\n",
       "      <th>2022-03-02 04:00:00+00:00</th>\n",
       "      <td>RT @Cointelegraph: Some on-chain stats still b...</td>\n",
       "      <td>0.0000</td>\n",
       "      <td>44273.210938</td>\n",
       "      <td>-0.002187</td>\n",
       "    </tr>\n",
       "    <tr>\n",
       "      <th>2022-03-02 04:00:00+00:00</th>\n",
       "      <td>RT @bre_jew: @bitcoin_brown omg, I'm getting f...</td>\n",
       "      <td>-0.5574</td>\n",
       "      <td>44273.210938</td>\n",
       "      <td>-0.002187</td>\n",
       "    </tr>\n",
       "    <tr>\n",
       "      <th>2022-03-02 04:00:00+00:00</th>\n",
       "      <td>RT @BTC_Archive: 💥El Salvador President: The i...</td>\n",
       "      <td>0.3400</td>\n",
       "      <td>44273.210938</td>\n",
       "      <td>-0.002187</td>\n",
       "    </tr>\n",
       "  </tbody>\n",
       "</table>\n",
       "</div>"
      ],
      "text/plain": [
       "                                                                      Tweets  \\\n",
       "Horario                                                                        \n",
       "2022-03-02 04:00:00+00:00  RT @BitcoinStimulus: $7,852 (+554%)\\r\\n\\r\\n#bi...   \n",
       "2022-03-02 04:00:00+00:00  @TheMoonCarl You say you’re willing to gain we...   \n",
       "2022-03-02 04:00:00+00:00  RT @Cointelegraph: Some on-chain stats still b...   \n",
       "2022-03-02 04:00:00+00:00  RT @bre_jew: @bitcoin_brown omg, I'm getting f...   \n",
       "2022-03-02 04:00:00+00:00  RT @BTC_Archive: 💥El Salvador President: The i...   \n",
       "\n",
       "                           Sentimento         Close  Retornos  \n",
       "Horario                                                        \n",
       "2022-03-02 04:00:00+00:00      0.0000  44273.210938 -0.002187  \n",
       "2022-03-02 04:00:00+00:00      0.5994  44273.210938 -0.002187  \n",
       "2022-03-02 04:00:00+00:00      0.0000  44273.210938 -0.002187  \n",
       "2022-03-02 04:00:00+00:00     -0.5574  44273.210938 -0.002187  \n",
       "2022-03-02 04:00:00+00:00      0.3400  44273.210938 -0.002187  "
      ]
     },
     "execution_count": 59,
     "metadata": {},
     "output_type": "execute_result"
    }
   ],
   "source": [
    "# Conferir os valores da coluna retorno\n",
    "Dados.head()"
   ]
  },
  {
   "cell_type": "code",
   "execution_count": 60,
   "metadata": {},
   "outputs": [
    {
     "data": {
      "text/html": [
       "<div>\n",
       "<style scoped>\n",
       "    .dataframe tbody tr th:only-of-type {\n",
       "        vertical-align: middle;\n",
       "    }\n",
       "\n",
       "    .dataframe tbody tr th {\n",
       "        vertical-align: top;\n",
       "    }\n",
       "\n",
       "    .dataframe thead th {\n",
       "        text-align: right;\n",
       "    }\n",
       "</style>\n",
       "<table border=\"1\" class=\"dataframe\">\n",
       "  <thead>\n",
       "    <tr style=\"text-align: right;\">\n",
       "      <th></th>\n",
       "      <th>Sentimento</th>\n",
       "      <th>Close</th>\n",
       "      <th>Retornos</th>\n",
       "    </tr>\n",
       "  </thead>\n",
       "  <tbody>\n",
       "    <tr>\n",
       "      <th>Sentimento</th>\n",
       "      <td>1.000000</td>\n",
       "      <td>-0.018273</td>\n",
       "      <td>-0.001543</td>\n",
       "    </tr>\n",
       "    <tr>\n",
       "      <th>Close</th>\n",
       "      <td>-0.018273</td>\n",
       "      <td>1.000000</td>\n",
       "      <td>0.028697</td>\n",
       "    </tr>\n",
       "    <tr>\n",
       "      <th>Retornos</th>\n",
       "      <td>-0.001543</td>\n",
       "      <td>0.028697</td>\n",
       "      <td>1.000000</td>\n",
       "    </tr>\n",
       "  </tbody>\n",
       "</table>\n",
       "</div>"
      ],
      "text/plain": [
       "            Sentimento     Close  Retornos\n",
       "Sentimento    1.000000 -0.018273 -0.001543\n",
       "Close        -0.018273  1.000000  0.028697\n",
       "Retornos     -0.001543  0.028697  1.000000"
      ]
     },
     "execution_count": 60,
     "metadata": {},
     "output_type": "execute_result"
    }
   ],
   "source": [
    "# Observar correlações entre as variáveis numéricas\n",
    "Dados.corr()\n",
    "\n",
    "# Correlação dos retornos com o valor do sentimento é extremamente pequena"
   ]
  },
  {
   "cell_type": "code",
   "execution_count": 28,
   "metadata": {},
   "outputs": [
    {
     "data": {
      "text/plain": [
       "Horario\n",
       "2022-03-02 03:00:00+00:00    0.5994\n",
       "2022-03-02 03:00:00+00:00    0.3612\n",
       "2022-03-02 03:00:00+00:00    0.5859\n",
       "2022-03-02 03:00:00+00:00    0.4753\n",
       "2022-03-02 03:00:00+00:00    0.4753\n",
       "                              ...  \n",
       "2022-03-02 03:00:00+00:00    0.0000\n",
       "2022-03-02 03:00:00+00:00    0.6124\n",
       "2022-03-02 03:00:00+00:00    0.8013\n",
       "2022-03-02 03:00:00+00:00    0.0000\n",
       "2022-03-02 03:00:00+00:00    0.4753\n",
       "Name: Sentimento, Length: 100, dtype: float64"
      ]
     },
     "execution_count": 28,
     "metadata": {},
     "output_type": "execute_result"
    }
   ],
   "source": [
    "# Exemplo de pegar sentimento para uma hora específica\n",
    "Dados.loc[\"2022-03-02 03\"][\"Sentimento\"]"
   ]
  },
  {
   "cell_type": "code",
   "execution_count": 61,
   "metadata": {},
   "outputs": [
    {
     "data": {
      "text/plain": [
       "'Positivo'"
      ]
     },
     "execution_count": 61,
     "metadata": {},
     "output_type": "execute_result"
    }
   ],
   "source": [
    "# Somar os valores de sentimento para uma hora, a fim de se obter o sentimento geral.\n",
    "# Se o total >0, então o sentimento naquela hora foi positivo, se não, foi negativo\n",
    "\n",
    "def Obter_Sentimento_Agregado(mes,dia,hora):\n",
    "    hora = f\"0{hora}\" if hora <10 else hora\n",
    "    Agreg_numerico = Dados.loc[f\"2022-0{mes}-0{dia} {hora}\"][\"Sentimento\"].sum()\n",
    "    Sentimento = \"Positivo\" if Agreg_numerico > 0 else \"Negativo\"\n",
    "    return Sentimento\n",
    "\n",
    "# Resultados\n",
    "Obter_Sentimento_Agregado(3, 4, 4)"
   ]
  }
 ],
 "metadata": {
  "interpreter": {
   "hash": "b6ecb6f938e07719b005789865e46e47d79f55cc65aad37ae5bbd9c37a357cec"
  },
  "kernelspec": {
   "display_name": "Python 3.9.7 ('base')",
   "language": "python",
   "name": "python3"
  },
  "language_info": {
   "codemirror_mode": {
    "name": "ipython",
    "version": 3
   },
   "file_extension": ".py",
   "mimetype": "text/x-python",
   "name": "python",
   "nbconvert_exporter": "python",
   "pygments_lexer": "ipython3",
   "version": "3.9.7"
  },
  "orig_nbformat": 4
 },
 "nbformat": 4,
 "nbformat_minor": 2
}
