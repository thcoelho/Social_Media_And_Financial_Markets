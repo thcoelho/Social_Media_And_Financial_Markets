{
 "cells": [
  {
   "cell_type": "code",
   "execution_count": 1,
   "metadata": {},
   "outputs": [],
   "source": [
    "# Importar base e Dropar preços não necessários\n",
    "import pandas as pd\n",
    "\n",
    "Dados = pd.read_csv(\"Data/Dados_Agregados.csv\", index_col=[\"Dia\", \"Hora\"])\n",
    "Dados.drop([\"Gold_ETF\", \"Oil_ETF\", \"Dow_Jones\", \"S&P500\"], axis='columns', inplace=True)"
   ]
  },
  {
   "cell_type": "code",
   "execution_count": 2,
   "metadata": {},
   "outputs": [],
   "source": [
    "# Função para comparar as variâncias com as médias móveis e estáticas\n",
    "def Comparar_Variancias(Intervalo):\n",
    "    # Variância Média Móvel\n",
    "    Movel = Dados.rolling(Intervalo).mean().var()[2:].rename('Movel')\n",
    "\n",
    "    # Variância Média Estática\n",
    "    Estatica = Dados.rolling(Intervalo).mean()[Intervalo-1::Intervalo].var()[2:].rename('Estatica')\n",
    "\n",
    "    Resultados = pd.merge(Movel, Estatica, left_index=True, right_index=True)\n",
    "    return Resultados"
   ]
  },
  {
   "cell_type": "code",
   "execution_count": 4,
   "metadata": {},
   "outputs": [],
   "source": [
    "# Criar base de dados com intervalos de 2, 4, 6, 8, 10 e 12 horas\n",
    "def Criar_Dados_medias():\n",
    "\n",
    "    # Intervalos de Horas:\n",
    "    Intervalo = [2,4,6,8,10,12]\n",
    "\n",
    "    # Loop:\n",
    "    for i in range(len(Intervalo)):\n",
    "        # Variância Média Móvel\n",
    "        Movel = Dados.pct_change().rolling(Intervalo[i]).mean()\n",
    "\n",
    "        # Variância Média Estática\n",
    "        Estatica = Dados.pct_change().rolling(Intervalo[i]).mean()[Intervalo[i]-1::Intervalo[i]]\n",
    "\n",
    "        # Variação\n",
    "\n",
    "\n",
    "        #Exportar para .csv\n",
    "        Movel.to_csv(f\"Data/Dados_Intervalos/Media_Movel_{Intervalo[i]}_periodos.csv\")\n",
    "        Estatica.to_csv(f\"Data/Dados_Intervalos/Media_Estatica_{Intervalo[i]}_periodos.csv\")\n",
    "\n",
    "\n",
    "    return None"
   ]
  },
  {
   "cell_type": "code",
   "execution_count": 5,
   "metadata": {},
   "outputs": [],
   "source": [
    "Criar_Dados_medias()"
   ]
  },
  {
   "cell_type": "code",
   "execution_count": 62,
   "metadata": {},
   "outputs": [],
   "source": [
    "# Criar base de dados com intervalos de 2, 4, 6, 8, 10 e 12 horas\n",
    "def Criar_Dados_variacao():\n",
    "\n",
    "    # Intervalos de Horas:\n",
    "    Intervalo = [2,4,6,8,10,12]\n",
    "\n",
    "    # Loop:\n",
    "    for i in range(len(Intervalo)):\n",
    "\n",
    "        # Variância Média Móvel\n",
    "        Movel = Dados.pct_change(Intervalo[i])\n",
    "\n",
    "        # Variância Média Estática\n",
    "        Estatica = Dados.pct_change(Intervalo[i])[Intervalo[i]-1::Intervalo[i]]\n",
    "\n",
    "        # Variação\n",
    "\n",
    "\n",
    "        #Exportar para .csv\n",
    "        Movel.to_csv(f\"Data/Dados_Intervalos/Variacao_Movel_{Intervalo[i]}_periodos.csv\")\n",
    "        Estatica.to_csv(f\"Data/Dados_Intervalos/Variacao_Estatica_{Intervalo[i]}_periodos.csv\")\n",
    "\n",
    "\n",
    "    return None"
   ]
  },
  {
   "cell_type": "code",
   "execution_count": 63,
   "metadata": {},
   "outputs": [],
   "source": [
    "Criar_Dados_variacao()"
   ]
  },
  {
   "cell_type": "code",
   "execution_count": 6,
   "metadata": {},
   "outputs": [],
   "source": [
    "# Função para comparação de correlações\n",
    "def Checar_Correlacao(Intervalo,Movel_Ou_Estatica,Variacao_Ou_Media):\n",
    "    dado = pd.read_csv(f\"Data/Dados_Intervalos/{Variacao_Ou_Media}_{Movel_Ou_Estatica}_{Intervalo}_periodos.csv\", index_col=[\"Dia\", \"Hora\"])\n",
    "    return dado.corr()"
   ]
  },
  {
   "cell_type": "code",
   "execution_count": 122,
   "metadata": {},
   "outputs": [
    {
     "data": {
      "text/html": [
       "<div>\n",
       "<style scoped>\n",
       "    .dataframe tbody tr th:only-of-type {\n",
       "        vertical-align: middle;\n",
       "    }\n",
       "\n",
       "    .dataframe tbody tr th {\n",
       "        vertical-align: top;\n",
       "    }\n",
       "\n",
       "    .dataframe thead th {\n",
       "        text-align: right;\n",
       "    }\n",
       "</style>\n",
       "<table border=\"1\" class=\"dataframe\">\n",
       "  <thead>\n",
       "    <tr style=\"text-align: right;\">\n",
       "      <th></th>\n",
       "      <th>BTC-USD</th>\n",
       "      <th>USD/EUR</th>\n",
       "      <th>Sentimentos_PreProcessados</th>\n",
       "    </tr>\n",
       "  </thead>\n",
       "  <tbody>\n",
       "    <tr>\n",
       "      <th>BTC-USD</th>\n",
       "      <td>1.000000</td>\n",
       "      <td>-0.230583</td>\n",
       "      <td>-0.174785</td>\n",
       "    </tr>\n",
       "    <tr>\n",
       "      <th>USD/EUR</th>\n",
       "      <td>-0.230583</td>\n",
       "      <td>1.000000</td>\n",
       "      <td>0.237233</td>\n",
       "    </tr>\n",
       "    <tr>\n",
       "      <th>Sentimentos_PreProcessados</th>\n",
       "      <td>-0.174785</td>\n",
       "      <td>0.237233</td>\n",
       "      <td>1.000000</td>\n",
       "    </tr>\n",
       "  </tbody>\n",
       "</table>\n",
       "</div>"
      ],
      "text/plain": [
       "                             BTC-USD   USD/EUR  Sentimentos_PreProcessados\n",
       "BTC-USD                     1.000000 -0.230583                   -0.174785\n",
       "USD/EUR                    -0.230583  1.000000                    0.237233\n",
       "Sentimentos_PreProcessados -0.174785  0.237233                    1.000000"
      ]
     },
     "execution_count": 122,
     "metadata": {},
     "output_type": "execute_result"
    }
   ],
   "source": [
    "# Testar correlação\n",
    "Checar_Correlacao(Intervalo=12,Movel_Ou_Estatica=\"Estatica\", Variacao_Ou_Media=\"Media\")"
   ]
  }
 ],
 "metadata": {
  "kernelspec": {
   "display_name": "Python 3.9.12 ('base')",
   "language": "python",
   "name": "python3"
  },
  "language_info": {
   "codemirror_mode": {
    "name": "ipython",
    "version": 3
   },
   "file_extension": ".py",
   "mimetype": "text/x-python",
   "name": "python",
   "nbconvert_exporter": "python",
   "pygments_lexer": "ipython3",
   "version": "3.9.12"
  },
  "orig_nbformat": 4,
  "vscode": {
   "interpreter": {
    "hash": "f200176434afb1091d5af7be01b9b90418d74b515841510b5081206e46435119"
   }
  }
 },
 "nbformat": 4,
 "nbformat_minor": 2
}
