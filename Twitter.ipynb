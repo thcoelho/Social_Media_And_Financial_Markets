{
 "cells": [
  {
   "cell_type": "code",
   "execution_count": 177,
   "metadata": {},
   "outputs": [],
   "source": [
    "import tweepy\n",
    "import pandas as pd\n",
    "import datetime as dt"
   ]
  },
  {
   "cell_type": "code",
   "execution_count": 178,
   "metadata": {},
   "outputs": [],
   "source": [
    "# Criar variável para dia anterior\n",
    "dia = dt.datetime.now()\n",
    "dia = dia.replace(day=dia.day-1, hour=0, minute=0, second=0, microsecond=0)\n",
    "\n",
    "# Criar variável com os termos a serem pesquisados\n",
    "Termos = \"Bitcoin\""
   ]
  },
  {
   "cell_type": "code",
   "execution_count": 179,
   "metadata": {},
   "outputs": [],
   "source": [
    "# Obter Tokens \n",
    "with open(\"Twitter_API.txt\", \"r\", encoding=\"utf-8\") as f:\n",
    "    Tokens =  f.readlines()\n",
    "    f.close()\n",
    "\n",
    "# Inicializar objeto Client para pesquisa de Tweets\n",
    "Cliente = tweepy.Client(bearer_token=Tokens[-1], access_token=Tokens[1], access_token_secret=Tokens[4])"
   ]
  },
  {
   "cell_type": "code",
   "execution_count": 180,
   "metadata": {},
   "outputs": [],
   "source": [
    "# Criar dicionário cujas keys são as horas do dia\n",
    "resultados = {}\n",
    "\n",
    "# Criar listas para segurar os Tweets e as datas correspondentes\n",
    "Tweets = []\n",
    "Datas = []\n",
    "\n",
    "# Recuperar 100 tweets para cada hora do dia anterior e preencher o dicionário\n",
    "for hora in range(0,24):\n",
    "    resultados[hora] = Cliente.search_recent_tweets(Termos, max_results=100, tweet_fields=\"created_at\", \n",
    "                                            start_time=dia, end_time=dia.replace(hour=dia.hour+1))\n",
    "    for i in range(len(resultados[hora].data)):\n",
    "        Datas.append(resultados[hora].data[i].created_at)\n",
    "        Tweets.append(resultados[hora].data[i].text)\n",
    "    dia = dia.replace(hour=hora)"
   ]
  },
  {
   "cell_type": "code",
   "execution_count": 188,
   "metadata": {},
   "outputs": [
    {
     "data": {
      "text/html": [
       "<div>\n",
       "<style scoped>\n",
       "    .dataframe tbody tr th:only-of-type {\n",
       "        vertical-align: middle;\n",
       "    }\n",
       "\n",
       "    .dataframe tbody tr th {\n",
       "        vertical-align: top;\n",
       "    }\n",
       "\n",
       "    .dataframe thead th {\n",
       "        text-align: right;\n",
       "    }\n",
       "</style>\n",
       "<table border=\"1\" class=\"dataframe\">\n",
       "  <thead>\n",
       "    <tr style=\"text-align: right;\">\n",
       "      <th></th>\n",
       "      <th>Tweets</th>\n",
       "    </tr>\n",
       "  </thead>\n",
       "  <tbody>\n",
       "    <tr>\n",
       "      <th>2022-03-06 00:59:59+00:00</th>\n",
       "      <td>RT @AnnieBista: What is your favorite currency...</td>\n",
       "    </tr>\n",
       "    <tr>\n",
       "      <th>2022-03-06 00:59:59+00:00</th>\n",
       "      <td>RT @Next100XGEMS: ♾/21M #Bitcoin ONLY🚀</td>\n",
       "    </tr>\n",
       "    <tr>\n",
       "      <th>2022-03-06 00:59:58+00:00</th>\n",
       "      <td>RT @AirdropStario: 💧 REF Token Airdrop 💧\\n\\n🏆 ...</td>\n",
       "    </tr>\n",
       "    <tr>\n",
       "      <th>2022-03-06 00:59:58+00:00</th>\n",
       "      <td>RT @SaitamaDelboy: #Saitama #SaitaMask #Bitcoi...</td>\n",
       "    </tr>\n",
       "    <tr>\n",
       "      <th>2022-03-06 00:59:58+00:00</th>\n",
       "      <td>$BTC #Bitcoin in it's highest peak right now. ...</td>\n",
       "    </tr>\n",
       "    <tr>\n",
       "      <th>...</th>\n",
       "      <td>...</td>\n",
       "    </tr>\n",
       "    <tr>\n",
       "      <th>2022-03-06 22:59:35+00:00</th>\n",
       "      <td>RT @Jayecane: sending money now ! rt + post yo...</td>\n",
       "    </tr>\n",
       "    <tr>\n",
       "      <th>2022-03-06 22:59:35+00:00</th>\n",
       "      <td>RT @JeffBooth: When trust is lost in money, tr...</td>\n",
       "    </tr>\n",
       "    <tr>\n",
       "      <th>2022-03-06 22:59:34+00:00</th>\n",
       "      <td>Early is on time and being aware of Telefy at ...</td>\n",
       "    </tr>\n",
       "    <tr>\n",
       "      <th>2022-03-06 22:59:34+00:00</th>\n",
       "      <td>RT @coinok: 1 BTC Price: Bitstamp 39021.61 USD...</td>\n",
       "    </tr>\n",
       "    <tr>\n",
       "      <th>2022-03-06 22:59:34+00:00</th>\n",
       "      <td>RT @Tarunn_b: Bitcoin sanctions could be next ...</td>\n",
       "    </tr>\n",
       "  </tbody>\n",
       "</table>\n",
       "<p>2395 rows × 1 columns</p>\n",
       "</div>"
      ],
      "text/plain": [
       "                                                                      Tweets\n",
       "2022-03-06 00:59:59+00:00  RT @AnnieBista: What is your favorite currency...\n",
       "2022-03-06 00:59:59+00:00             RT @Next100XGEMS: ♾/21M #Bitcoin ONLY🚀\n",
       "2022-03-06 00:59:58+00:00  RT @AirdropStario: 💧 REF Token Airdrop 💧\\n\\n🏆 ...\n",
       "2022-03-06 00:59:58+00:00  RT @SaitamaDelboy: #Saitama #SaitaMask #Bitcoi...\n",
       "2022-03-06 00:59:58+00:00  $BTC #Bitcoin in it's highest peak right now. ...\n",
       "...                                                                      ...\n",
       "2022-03-06 22:59:35+00:00  RT @Jayecane: sending money now ! rt + post yo...\n",
       "2022-03-06 22:59:35+00:00  RT @JeffBooth: When trust is lost in money, tr...\n",
       "2022-03-06 22:59:34+00:00  Early is on time and being aware of Telefy at ...\n",
       "2022-03-06 22:59:34+00:00  RT @coinok: 1 BTC Price: Bitstamp 39021.61 USD...\n",
       "2022-03-06 22:59:34+00:00  RT @Tarunn_b: Bitcoin sanctions could be next ...\n",
       "\n",
       "[2395 rows x 1 columns]"
      ]
     },
     "execution_count": 188,
     "metadata": {},
     "output_type": "execute_result"
    }
   ],
   "source": [
    "# Criar DataFrame Dados\n",
    "\n",
    "Df = pd.DataFrame()\n",
    "Df[\"Tweets\"] = Tweets\n",
    "Df.index = Datas\n",
    "\n",
    "# Printar DataFrame\n",
    "Df"
   ]
  },
  {
   "cell_type": "code",
   "execution_count": 189,
   "metadata": {},
   "outputs": [],
   "source": [
    "# Exportar DataFrame para CSV.\n",
    "Df.to_csv(\"Tweets.csv\", sep=\";\")"
   ]
  }
 ],
 "metadata": {
  "interpreter": {
   "hash": "931c2896970f9f057d9fae61d338afeeeb91f116304f05fe78255052ba30b701"
  },
  "kernelspec": {
   "display_name": "Python 3.9.7 ('base')",
   "language": "python",
   "name": "python3"
  },
  "language_info": {
   "codemirror_mode": {
    "name": "ipython",
    "version": 3
   },
   "file_extension": ".py",
   "mimetype": "text/x-python",
   "name": "python",
   "nbconvert_exporter": "python",
   "pygments_lexer": "ipython3",
   "version": "3.9.7"
  },
  "orig_nbformat": 4
 },
 "nbformat": 4,
 "nbformat_minor": 2
}
