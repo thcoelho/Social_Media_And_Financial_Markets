{
 "cells": [
  {
   "cell_type": "code",
   "execution_count": 11,
   "metadata": {},
   "outputs": [],
   "source": [
    "import tweepy\n",
    "import pandas as pd\n",
    "import nltk\n",
    "import re\n",
    "import GetOldTweets3 as got"
   ]
  },
  {
   "cell_type": "code",
   "execution_count": 9,
   "metadata": {},
   "outputs": [
    {
     "data": {
      "text/plain": [
       "<Tweet id=1496928802764693507 text=Os #mercados globais caem nesta quinta-feira e o dólar tem forte alta ante o real, em um dia de grande aversão ao risco nos mercados:\n",
       "\n",
       "https://t.co/fV2aT7bT8A>"
      ]
     },
     "execution_count": 9,
     "metadata": {},
     "output_type": "execute_result"
    }
   ],
   "source": [
    "# Obter Tokens \n",
    "with open(\"Twitter_API.txt\", \"r\", encoding=\"utf-8\") as f:\n",
    "    Tokens =  f.readlines()\n",
    "    f.close()\n",
    "\n",
    "# Inicializar objeto Client para pesquisa de Tweets\n",
    "Cliente = tweepy.Client(bearer_token=Tokens[-1], access_token=Tokens[1], access_token_secret=Tokens[4])\n",
    "\n",
    "# Teste para pesquisa de 100 tweets dos últimos sobre o IBOVESPA\n",
    "resultados = Cliente.search_recent_tweets(\"Ibovespa\", max_results=100, tweet_fields=\"created_at\")\n",
    "\n",
    "# Printar Primeiro Tweet\n",
    "resultados.data[1]"
   ]
  },
  {
   "cell_type": "code",
   "execution_count": 6,
   "metadata": {},
   "outputs": [
    {
     "data": {
      "text/plain": [
       "'@kervendouglas @rayovacris @otimistaoficial grandes fundos multi bilionários que fazem o real cair eles compram ibovespa e tesouro  com juros baixos não tem sentido investir no brasil  com risco brasil alto tmb não faz  com ruídos políticos, presidente flertando com golpe e acusando as eleições de fraude menos ainda'"
      ]
     },
     "execution_count": 6,
     "metadata": {},
     "output_type": "execute_result"
    }
   ],
   "source": [
    "# Remover Links e pontuação\n",
    "\n",
    "def remover_pontuacao(tweet):\n",
    "    tweet = str(tweet)\n",
    "    tweet = re.sub(r\"http\\S+\", \"\", tweet).lower().replace('.','').replace(';',''). \\\n",
    "    replace('-','').replace(':','').replace(')','').replace(\"!\", \"\").replace(\"\\n\", \" \")\n",
    "    return (tweet)\n",
    "\n",
    "for tweet in range(len(resultados.data)):\n",
    "    resultados.data[tweet] = remover_pontuacao(resultados.data[tweet])\n",
    "\n",
    "resultados.data[1]"
   ]
  },
  {
   "cell_type": "code",
   "execution_count": null,
   "metadata": {},
   "outputs": [],
   "source": []
  }
 ],
 "metadata": {
  "interpreter": {
   "hash": "931c2896970f9f057d9fae61d338afeeeb91f116304f05fe78255052ba30b701"
  },
  "kernelspec": {
   "display_name": "Python 3.9.7 ('base')",
   "language": "python",
   "name": "python3"
  },
  "language_info": {
   "codemirror_mode": {
    "name": "ipython",
    "version": 3
   },
   "file_extension": ".py",
   "mimetype": "text/x-python",
   "name": "python",
   "nbconvert_exporter": "python",
   "pygments_lexer": "ipython3",
   "version": "3.9.7"
  },
  "orig_nbformat": 4
 },
 "nbformat": 4,
 "nbformat_minor": 2
}
