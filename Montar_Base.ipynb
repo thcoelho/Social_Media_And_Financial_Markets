{
 "cells": [
  {
   "cell_type": "code",
   "execution_count": 1,
   "metadata": {},
   "outputs": [],
   "source": [
    "# Importar arquivo Funcoes, que contém as funções que serão utilizadas para montar a base\n",
    "import Funcoes"
   ]
  },
  {
   "cell_type": "code",
   "execution_count": 3,
   "metadata": {},
   "outputs": [
    {
     "name": "stdout",
     "output_type": "stream",
     "text": [
      "Token Adquirido\n",
      "Tweets Processados\n",
      "Dados exportados com Sucesso\n"
     ]
    }
   ],
   "source": [
    "# Coletar os Tweeets do dia anterior e exportar para Tweets.csv\n",
    "Funcoes.Coletar_Tweets()"
   ]
  },
  {
   "cell_type": "code",
   "execution_count": 4,
   "metadata": {},
   "outputs": [
    {
     "name": "stdout",
     "output_type": "stream",
     "text": [
      "Horizonte temporal adquirido\n",
      "Dados exportados com sucesso\n"
     ]
    }
   ],
   "source": [
    "# Coletar Preços até o dia do último tweet coletado e exportar para Precos.csv\n",
    "Funcoes.Coletar_Precos()"
   ]
  },
  {
   "cell_type": "code",
   "execution_count": 5,
   "metadata": {},
   "outputs": [
    {
     "name": "stdout",
     "output_type": "stream",
     "text": [
      "Sentimentos adquiridos\n",
      "Dados exportados com Sucesso\n"
     ]
    }
   ],
   "source": [
    "# Coletar sentimento Compostos e exportar para Sentimento_Agregado.csv\n",
    "Funcoes.Sentimento()"
   ]
  },
  {
   "cell_type": "code",
   "execution_count": 6,
   "metadata": {},
   "outputs": [
    {
     "name": "stderr",
     "output_type": "stream",
     "text": [
      "C:\\Users\\Thiago\\anaconda3\\lib\\site-packages\\pandas\\core\\arrays\\datetimes.py:741: PerformanceWarning: Non-vectorized DateOffset being applied to Series or DatetimeIndex\n",
      "  warnings.warn(\n"
     ]
    },
    {
     "name": "stdout",
     "output_type": "stream",
     "text": [
      "Dados exportados com Sucesso\n"
     ]
    }
   ],
   "source": [
    "# Juntar todos os CVSs em um só\n",
    "Funcoes.Juntar_Base()"
   ]
  }
 ],
 "metadata": {
  "interpreter": {
   "hash": "931c2896970f9f057d9fae61d338afeeeb91f116304f05fe78255052ba30b701"
  },
  "kernelspec": {
   "display_name": "Python 3.9.7 ('base')",
   "language": "python",
   "name": "python3"
  },
  "language_info": {
   "codemirror_mode": {
    "name": "ipython",
    "version": 3
   },
   "file_extension": ".py",
   "mimetype": "text/x-python",
   "name": "python",
   "nbconvert_exporter": "python",
   "pygments_lexer": "ipython3",
   "version": "3.9.7"
  },
  "orig_nbformat": 4
 },
 "nbformat": 4,
 "nbformat_minor": 2
}
