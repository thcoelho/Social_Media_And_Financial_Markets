{
 "cells": [
  {
   "cell_type": "code",
   "execution_count": 1,
   "metadata": {},
   "outputs": [],
   "source": [
    "# Importar bibliotecas\n",
    "import pandas as pd\n",
    "import nltk\n",
    "from vaderSentiment.vaderSentiment import SentimentIntensityAnalyzer"
   ]
  },
  {
   "cell_type": "code",
   "execution_count": 2,
   "metadata": {},
   "outputs": [
    {
     "data": {
      "text/html": [
       "<div>\n",
       "<style scoped>\n",
       "    .dataframe tbody tr th:only-of-type {\n",
       "        vertical-align: middle;\n",
       "    }\n",
       "\n",
       "    .dataframe tbody tr th {\n",
       "        vertical-align: top;\n",
       "    }\n",
       "\n",
       "    .dataframe thead th {\n",
       "        text-align: right;\n",
       "    }\n",
       "</style>\n",
       "<table border=\"1\" class=\"dataframe\">\n",
       "  <thead>\n",
       "    <tr style=\"text-align: right;\">\n",
       "      <th></th>\n",
       "      <th>Tweets</th>\n",
       "    </tr>\n",
       "  </thead>\n",
       "  <tbody>\n",
       "    <tr>\n",
       "      <th>2022-03-23 00:59:59+00:00</th>\n",
       "      <td>This zesty faucet from @_bitcoiner is making m...</td>\n",
       "    </tr>\n",
       "    <tr>\n",
       "      <th>2022-03-23 00:59:59+00:00</th>\n",
       "      <td>RT @FdxScott: Nos pusimos a tope con las altco...</td>\n",
       "    </tr>\n",
       "    <tr>\n",
       "      <th>2022-03-23 00:59:59+00:00</th>\n",
       "      <td>RT @NFT_Justin: Never invest more than you can...</td>\n",
       "    </tr>\n",
       "    <tr>\n",
       "      <th>2022-03-23 00:59:59+00:00</th>\n",
       "      <td>RT @NorthmanTrader: (R)evolution: Why I am bec...</td>\n",
       "    </tr>\n",
       "    <tr>\n",
       "      <th>2022-03-23 00:59:58+00:00</th>\n",
       "      <td>RT @Elonamusk_io: ❌ ELON MUSK MAKES HEADLINE T...</td>\n",
       "    </tr>\n",
       "  </tbody>\n",
       "</table>\n",
       "</div>"
      ],
      "text/plain": [
       "                                                                      Tweets\n",
       "2022-03-23 00:59:59+00:00  This zesty faucet from @_bitcoiner is making m...\n",
       "2022-03-23 00:59:59+00:00  RT @FdxScott: Nos pusimos a tope con las altco...\n",
       "2022-03-23 00:59:59+00:00  RT @NFT_Justin: Never invest more than you can...\n",
       "2022-03-23 00:59:59+00:00  RT @NorthmanTrader: (R)evolution: Why I am bec...\n",
       "2022-03-23 00:59:58+00:00  RT @Elonamusk_io: ❌ ELON MUSK MAKES HEADLINE T..."
      ]
     },
     "execution_count": 2,
     "metadata": {},
     "output_type": "execute_result"
    }
   ],
   "source": [
    "# Ler Tweets Coletados\n",
    "Tweets = pd.read_csv(\"Data\\Tweets.csv\", sep=\";\", index_col=\"Unnamed: 0\")\n",
    "\n",
    "# Printar primeira Linhas\n",
    "Tweets.head()"
   ]
  },
  {
   "cell_type": "code",
   "execution_count": 4,
   "metadata": {},
   "outputs": [
    {
     "data": {
      "text/plain": [
       "'RT @NorthmanTrader: (R)evolution: Why I am becoming a supporter of #Bitcoin \\n\\nhttps://t.co/WWaAP6XHvk'"
      ]
     },
     "execution_count": 4,
     "metadata": {},
     "output_type": "execute_result"
    }
   ],
   "source": [
    "# Printar Primeiro Tweet\n",
    "Tweets.iloc[3,0]"
   ]
  },
  {
   "cell_type": "code",
   "execution_count": null,
   "metadata": {},
   "outputs": [],
   "source": []
  },
  {
   "cell_type": "code",
   "execution_count": 5,
   "metadata": {},
   "outputs": [
    {
     "data": {
      "text/plain": [
       "['RT',\n",
       " '@',\n",
       " 'NorthmanTrader',\n",
       " ':',\n",
       " '(',\n",
       " 'R',\n",
       " ')',\n",
       " 'evolution',\n",
       " ':',\n",
       " 'becoming',\n",
       " 'supporter',\n",
       " '#',\n",
       " 'Bitcoin',\n",
       " 'https',\n",
       " ':',\n",
       " '//t.co/WWaAP6XHvk']"
      ]
     },
     "execution_count": 5,
     "metadata": {},
     "output_type": "execute_result"
    }
   ],
   "source": [
    "# Tokenizar primeiro tweet por frases\n",
    "Tokenizado_frases = nltk.tokenize.sent_tokenize(Tweets.iloc[3,0])\n",
    "\n",
    "# Lista para conter listas com as frases tokenizadas em palavras\n",
    "Tokenizado = []\n",
    "\n",
    "# Tokenizar primeiro Tweet por palavras\n",
    "for frase in range(len(Tokenizado_frases)):\n",
    "    Tokenizado.append(nltk.tokenize.word_tokenize(Tokenizado_frases[frase]))\n",
    "\n",
    "# Printar primeira frase do primeiro Tweet tokenizada em Palavras\n",
    "Tokenizado[0]\n",
    "\n",
    "# Obter StopWords: Palavras sem valor semântico a serem ignoradas\n",
    "StopWords = nltk.corpus.stopwords.words(\"english\")\n",
    "StopWords\n",
    "\n",
    "# Retirar StopWords da primeira frase do primeiro Tweet\n",
    "Sem_Stop = []\n",
    "for palavra in Tokenizado[0]:\n",
    "    if palavra.casefold() not in StopWords:\n",
    "        Sem_Stop.append(palavra)\n",
    "Sem_Stop"
   ]
  },
  {
   "cell_type": "code",
   "execution_count": 6,
   "metadata": {},
   "outputs": [
    {
     "data": {
      "text/plain": [
       "{'neg': 0.0, 'neu': 0.84, 'pos': 0.16, 'compound': 0.2732}"
      ]
     },
     "execution_count": 6,
     "metadata": {},
     "output_type": "execute_result"
    }
   ],
   "source": [
    "# Teste VADER\n",
    "VADER = SentimentIntensityAnalyzer()\n",
    "VADER.polarity_scores(Tweets.iloc[3,0])"
   ]
  },
  {
   "cell_type": "code",
   "execution_count": 7,
   "metadata": {},
   "outputs": [
    {
     "data": {
      "text/plain": [
       "{'neg': 0.0, 'neu': 1.0, 'pos': 0.0, 'compound': 0.0}"
      ]
     },
     "execution_count": 7,
     "metadata": {},
     "output_type": "execute_result"
    }
   ],
   "source": [
    "# Comparar com tweet preprocessado\n",
    "VADER.polarity_scores(Sem_Stop)"
   ]
  },
  {
   "cell_type": "code",
   "execution_count": 15,
   "metadata": {},
   "outputs": [
    {
     "data": {
      "text/plain": [
       "0.2732"
      ]
     },
     "execution_count": 15,
     "metadata": {},
     "output_type": "execute_result"
    }
   ],
   "source": [
    "# É possível coletar diretamente o score composto\n",
    "VADER.polarity_scores(Tweets.iloc[3,0])[\"compound\"]"
   ]
  },
  {
   "cell_type": "code",
   "execution_count": 14,
   "metadata": {},
   "outputs": [
    {
     "data": {
      "text/plain": [
       "{'neg': 0.0, 'neu': 1.0, 'pos': 0.0, 'compound': 0.0}"
      ]
     },
     "execution_count": 14,
     "metadata": {},
     "output_type": "execute_result"
    }
   ],
   "source": [
    "# Testar frases\n",
    "VADER.polarity_scores(\"Bitcoin fixes this\")"
   ]
  }
 ],
 "metadata": {
  "interpreter": {
   "hash": "931c2896970f9f057d9fae61d338afeeeb91f116304f05fe78255052ba30b701"
  },
  "kernelspec": {
   "display_name": "Python 3.9.7 ('base')",
   "language": "python",
   "name": "python3"
  },
  "language_info": {
   "codemirror_mode": {
    "name": "ipython",
    "version": 3
   },
   "file_extension": ".py",
   "mimetype": "text/x-python",
   "name": "python",
   "nbconvert_exporter": "python",
   "pygments_lexer": "ipython3",
   "version": "3.9.7"
  },
  "orig_nbformat": 4
 },
 "nbformat": 4,
 "nbformat_minor": 2
}
