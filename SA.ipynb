{
 "cells": [
  {
   "cell_type": "code",
   "execution_count": 6,
   "metadata": {},
   "outputs": [],
   "source": [
    "# Importar bibliotecas\n",
    "import pandas as pd\n",
    "import nltk"
   ]
  },
  {
   "cell_type": "code",
   "execution_count": 5,
   "metadata": {},
   "outputs": [
    {
     "data": {
      "text/html": [
       "<div>\n",
       "<style scoped>\n",
       "    .dataframe tbody tr th:only-of-type {\n",
       "        vertical-align: middle;\n",
       "    }\n",
       "\n",
       "    .dataframe tbody tr th {\n",
       "        vertical-align: top;\n",
       "    }\n",
       "\n",
       "    .dataframe thead th {\n",
       "        text-align: right;\n",
       "    }\n",
       "</style>\n",
       "<table border=\"1\" class=\"dataframe\">\n",
       "  <thead>\n",
       "    <tr style=\"text-align: right;\">\n",
       "      <th></th>\n",
       "      <th>Tweets</th>\n",
       "    </tr>\n",
       "  </thead>\n",
       "  <tbody>\n",
       "    <tr>\n",
       "      <th>2022-03-15 00:59:59+00:00</th>\n",
       "      <td>RT @BitcoinFear: Bitcoin Fear and Greed Index ...</td>\n",
       "    </tr>\n",
       "    <tr>\n",
       "      <th>2022-03-15 00:59:59+00:00</th>\n",
       "      <td>RT @SweetSOLtoken: 🎈#SweetSOL Airdrop Announce...</td>\n",
       "    </tr>\n",
       "    <tr>\n",
       "      <th>2022-03-15 00:59:59+00:00</th>\n",
       "      <td>RT @SweetSOLtoken: 🎈#SweetSOL Airdrop Announce...</td>\n",
       "    </tr>\n",
       "    <tr>\n",
       "      <th>2022-03-15 00:59:59+00:00</th>\n",
       "      <td>RT @WatcherGuru: BREAKING: The EU has voted ag...</td>\n",
       "    </tr>\n",
       "    <tr>\n",
       "      <th>2022-03-15 00:59:59+00:00</th>\n",
       "      <td>People still think ETH will flip #Bitcoin not ...</td>\n",
       "    </tr>\n",
       "  </tbody>\n",
       "</table>\n",
       "</div>"
      ],
      "text/plain": [
       "                                                                      Tweets\n",
       "2022-03-15 00:59:59+00:00  RT @BitcoinFear: Bitcoin Fear and Greed Index ...\n",
       "2022-03-15 00:59:59+00:00  RT @SweetSOLtoken: 🎈#SweetSOL Airdrop Announce...\n",
       "2022-03-15 00:59:59+00:00  RT @SweetSOLtoken: 🎈#SweetSOL Airdrop Announce...\n",
       "2022-03-15 00:59:59+00:00  RT @WatcherGuru: BREAKING: The EU has voted ag...\n",
       "2022-03-15 00:59:59+00:00  People still think ETH will flip #Bitcoin not ..."
      ]
     },
     "execution_count": 5,
     "metadata": {},
     "output_type": "execute_result"
    }
   ],
   "source": [
    "# Ler Tweets Coletados\n",
    "Tweets = pd.read_csv(\"Data\\Tweets.csv\", sep=\";\", index_col=\"Unnamed: 0\")\n",
    "\n",
    "# Printar primeira Linhas\n",
    "Tweets.head()"
   ]
  },
  {
   "cell_type": "code",
   "execution_count": 7,
   "metadata": {},
   "outputs": [],
   "source": [
    "StopWords = set(nltk.corpus.stopwords.words(\"english\"))"
   ]
  },
  {
   "cell_type": "code",
   "execution_count": 9,
   "metadata": {},
   "outputs": [
    {
     "data": {
      "text/plain": [
       "'RT @SweetSOLtoken: 🎈#SweetSOL Airdrop Announcement🎈\\n\\n🍭To Participate:\\n1️⃣ RT &amp; Follow @SweetSOLtoken\\n2️⃣ Reply &amp; Tag 3 Friends\\n3️⃣ Join htt…'"
      ]
     },
     "execution_count": 9,
     "metadata": {},
     "output_type": "execute_result"
    }
   ],
   "source": [
    "# Printar Primeiro Tweet\n",
    "Tweets.iloc[1,0]"
   ]
  },
  {
   "cell_type": "code",
   "execution_count": 20,
   "metadata": {},
   "outputs": [
    {
     "data": {
      "text/plain": [
       "['RT',\n",
       " '@',\n",
       " 'SweetSOLtoken',\n",
       " ':',\n",
       " '🎈',\n",
       " '#',\n",
       " 'SweetSOL',\n",
       " 'Airdrop',\n",
       " 'Announcement🎈',\n",
       " '🍭To',\n",
       " 'Participate',\n",
       " ':',\n",
       " '1️⃣',\n",
       " 'RT',\n",
       " '&',\n",
       " 'amp',\n",
       " ';',\n",
       " 'Follow',\n",
       " '@',\n",
       " 'SweetSOLtoken',\n",
       " '2️⃣',\n",
       " 'Reply',\n",
       " '&',\n",
       " 'amp',\n",
       " ';',\n",
       " 'Tag',\n",
       " '3',\n",
       " 'Friends',\n",
       " '3️⃣',\n",
       " 'Join',\n",
       " 'htt…']"
      ]
     },
     "execution_count": 20,
     "metadata": {},
     "output_type": "execute_result"
    }
   ],
   "source": [
    "# Tokenizar primeiro Tweet por palavras\n",
    "Tokenizado = nltk.tokenize.word_tokenize(Tweets.iloc[1,0])\n",
    "Tokenizado"
   ]
  },
  {
   "cell_type": "code",
   "execution_count": 23,
   "metadata": {},
   "outputs": [
    {
     "data": {
      "text/plain": [
       "['RT',\n",
       " '@',\n",
       " 'SweetSOLtoken',\n",
       " ':',\n",
       " '🎈',\n",
       " '#',\n",
       " 'SweetSOL',\n",
       " 'Airdrop',\n",
       " 'Announcement🎈',\n",
       " '🍭To',\n",
       " 'Participate',\n",
       " ':',\n",
       " '1️⃣',\n",
       " 'RT',\n",
       " '&',\n",
       " 'amp',\n",
       " ';',\n",
       " 'Follow',\n",
       " '@',\n",
       " 'SweetSOLtoken',\n",
       " '2️⃣',\n",
       " 'Reply',\n",
       " '&',\n",
       " 'amp',\n",
       " ';',\n",
       " 'Tag',\n",
       " '3',\n",
       " 'Friends',\n",
       " '3️⃣',\n",
       " 'Join',\n",
       " 'htt…']"
      ]
     },
     "execution_count": 23,
     "metadata": {},
     "output_type": "execute_result"
    }
   ],
   "source": [
    "Sem_Stop = []\n",
    "for palavra in Tokenizado:\n",
    "    if palavra.casefold() not in StopWords:\n",
    "        Sem_Stop.append(palavra)\n",
    "Sem_Stop"
   ]
  }
 ],
 "metadata": {
  "interpreter": {
   "hash": "931c2896970f9f057d9fae61d338afeeeb91f116304f05fe78255052ba30b701"
  },
  "kernelspec": {
   "display_name": "Python 3.9.7 ('base')",
   "language": "python",
   "name": "python3"
  },
  "language_info": {
   "codemirror_mode": {
    "name": "ipython",
    "version": 3
   },
   "file_extension": ".py",
   "mimetype": "text/x-python",
   "name": "python",
   "nbconvert_exporter": "python",
   "pygments_lexer": "ipython3",
   "version": "3.9.7"
  },
  "orig_nbformat": 4
 },
 "nbformat": 4,
 "nbformat_minor": 2
}
