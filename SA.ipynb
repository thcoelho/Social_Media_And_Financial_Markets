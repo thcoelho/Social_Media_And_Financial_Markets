{
 "cells": [
  {
   "cell_type": "code",
   "execution_count": 1,
   "metadata": {},
   "outputs": [],
   "source": [
    "# Importar bibliotecas\n",
    "import pandas as pd\n",
    "import nltk"
   ]
  },
  {
   "cell_type": "code",
   "execution_count": 2,
   "metadata": {},
   "outputs": [
    {
     "data": {
      "text/html": [
       "<div>\n",
       "<style scoped>\n",
       "    .dataframe tbody tr th:only-of-type {\n",
       "        vertical-align: middle;\n",
       "    }\n",
       "\n",
       "    .dataframe tbody tr th {\n",
       "        vertical-align: top;\n",
       "    }\n",
       "\n",
       "    .dataframe thead th {\n",
       "        text-align: right;\n",
       "    }\n",
       "</style>\n",
       "<table border=\"1\" class=\"dataframe\">\n",
       "  <thead>\n",
       "    <tr style=\"text-align: right;\">\n",
       "      <th></th>\n",
       "      <th>Tweets</th>\n",
       "    </tr>\n",
       "  </thead>\n",
       "  <tbody>\n",
       "    <tr>\n",
       "      <th>2022-03-19 00:59:59+00:00</th>\n",
       "      <td>@mittanrverdi2 I will spread D good news to ev...</td>\n",
       "    </tr>\n",
       "    <tr>\n",
       "      <th>2022-03-19 00:59:59+00:00</th>\n",
       "      <td>After reading Arthur Hayes' latest article, I ...</td>\n",
       "    </tr>\n",
       "    <tr>\n",
       "      <th>2022-03-19 00:59:59+00:00</th>\n",
       "      <td>Uyumayan ayakta olan kriptocular ?\\n\\n#btc #av...</td>\n",
       "    </tr>\n",
       "    <tr>\n",
       "      <th>2022-03-19 00:59:59+00:00</th>\n",
       "      <td>RT @binance: 💰 $10,000 giveaway 💰\\n \\nPost you...</td>\n",
       "    </tr>\n",
       "    <tr>\n",
       "      <th>2022-03-19 00:59:59+00:00</th>\n",
       "      <td>RT @chitaglorya__: giveaway 200$ | 2,800,000 I...</td>\n",
       "    </tr>\n",
       "  </tbody>\n",
       "</table>\n",
       "</div>"
      ],
      "text/plain": [
       "                                                                      Tweets\n",
       "2022-03-19 00:59:59+00:00  @mittanrverdi2 I will spread D good news to ev...\n",
       "2022-03-19 00:59:59+00:00  After reading Arthur Hayes' latest article, I ...\n",
       "2022-03-19 00:59:59+00:00  Uyumayan ayakta olan kriptocular ?\\n\\n#btc #av...\n",
       "2022-03-19 00:59:59+00:00  RT @binance: 💰 $10,000 giveaway 💰\\n \\nPost you...\n",
       "2022-03-19 00:59:59+00:00  RT @chitaglorya__: giveaway 200$ | 2,800,000 I..."
      ]
     },
     "execution_count": 2,
     "metadata": {},
     "output_type": "execute_result"
    }
   ],
   "source": [
    "# Ler Tweets Coletados\n",
    "Tweets = pd.read_csv(\"Data\\Tweets.csv\", sep=\";\", index_col=\"Unnamed: 0\")\n",
    "\n",
    "# Printar primeira Linhas\n",
    "Tweets.head()"
   ]
  },
  {
   "cell_type": "code",
   "execution_count": 14,
   "metadata": {},
   "outputs": [
    {
     "data": {
      "text/plain": [
       "\"After reading Arthur Hayes' latest article, I think that self sovereign saving technologies like Ethereum &amp; Bitcoin are finally going to decouple from the Nasdaq &amp; go much higher this year.\\n\\nDeplatforming Russia from the US Dollar monetary network will be the primary driver of th\""
      ]
     },
     "execution_count": 14,
     "metadata": {},
     "output_type": "execute_result"
    }
   ],
   "source": [
    "# Printar Primeiro Tweet\n",
    "Tweets.iloc[1,0]"
   ]
  },
  {
   "cell_type": "code",
   "execution_count": 13,
   "metadata": {},
   "outputs": [
    {
     "data": {
      "text/plain": [
       "['After',\n",
       " 'reading',\n",
       " 'Arthur',\n",
       " 'Hayes',\n",
       " \"'\",\n",
       " 'latest',\n",
       " 'article',\n",
       " ',',\n",
       " 'I',\n",
       " 'think',\n",
       " 'that',\n",
       " 'self',\n",
       " 'sovereign',\n",
       " 'saving',\n",
       " 'technologies',\n",
       " 'like',\n",
       " 'Ethereum',\n",
       " '&',\n",
       " 'amp',\n",
       " ';',\n",
       " 'Bitcoin',\n",
       " 'are',\n",
       " 'finally',\n",
       " 'going',\n",
       " 'to',\n",
       " 'decouple',\n",
       " 'from',\n",
       " 'the',\n",
       " 'Nasdaq',\n",
       " '&',\n",
       " 'amp',\n",
       " ';',\n",
       " 'go',\n",
       " 'much',\n",
       " 'higher',\n",
       " 'this',\n",
       " 'year',\n",
       " '.']"
      ]
     },
     "execution_count": 13,
     "metadata": {},
     "output_type": "execute_result"
    }
   ],
   "source": [
    "# Tokenizar primeiro tweet por frases\n",
    "Tokenizado_frases = nltk.tokenize.sent_tokenize(Tweets.iloc[1,0])\n",
    "\n",
    "# Lista para conter listas com as frases tokenizadas em palavras\n",
    "Tokenizado = []\n",
    "\n",
    "# Tokenizar primeiro Tweet por palavras\n",
    "for frase in range(len(Tokenizado_frases)):\n",
    "    Tokenizado.append(nltk.tokenize.word_tokenize(Tokenizado_frases[frase]))\n",
    "\n",
    "# Printar primeira frase do primeiro Tweet tokenizada em Palavras\n",
    "Tokenizado[0]"
   ]
  },
  {
   "cell_type": "code",
   "execution_count": 11,
   "metadata": {},
   "outputs": [
    {
     "data": {
      "text/plain": [
       "2"
      ]
     },
     "execution_count": 11,
     "metadata": {},
     "output_type": "execute_result"
    }
   ],
   "source": [
    "len(Tokenizado_frases)"
   ]
  },
  {
   "cell_type": "code",
   "execution_count": 15,
   "metadata": {},
   "outputs": [
    {
     "data": {
      "text/plain": [
       "['reading',\n",
       " 'Arthur',\n",
       " 'Hayes',\n",
       " \"'\",\n",
       " 'latest',\n",
       " 'article',\n",
       " ',',\n",
       " 'think',\n",
       " 'self',\n",
       " 'sovereign',\n",
       " 'saving',\n",
       " 'technologies',\n",
       " 'like',\n",
       " 'Ethereum',\n",
       " '&',\n",
       " 'amp',\n",
       " ';',\n",
       " 'Bitcoin',\n",
       " 'finally',\n",
       " 'going',\n",
       " 'decouple',\n",
       " 'Nasdaq',\n",
       " '&',\n",
       " 'amp',\n",
       " ';',\n",
       " 'go',\n",
       " 'much',\n",
       " 'higher',\n",
       " 'year',\n",
       " '.']"
      ]
     },
     "execution_count": 15,
     "metadata": {},
     "output_type": "execute_result"
    }
   ],
   "source": [
    "# Obter StopWords: Palavras sem valor semântico a serem ignoradas\n",
    "StopWords = nltk.corpus.stopwords.words(\"english\")\n",
    "StopWords\n",
    "\n",
    "# Retirar StopWords da primeira frase do primeiro Tweet\n",
    "Sem_Stop = []\n",
    "for palavra in Tokenizado[0]:\n",
    "    if palavra.casefold() not in StopWords:\n",
    "        Sem_Stop.append(palavra)\n",
    "Sem_Stop"
   ]
  },
  {
   "cell_type": "code",
   "execution_count": null,
   "metadata": {},
   "outputs": [],
   "source": []
  }
 ],
 "metadata": {
  "interpreter": {
   "hash": "931c2896970f9f057d9fae61d338afeeeb91f116304f05fe78255052ba30b701"
  },
  "kernelspec": {
   "display_name": "Python 3.9.7 ('base')",
   "language": "python",
   "name": "python3"
  },
  "language_info": {
   "codemirror_mode": {
    "name": "ipython",
    "version": 3
   },
   "file_extension": ".py",
   "mimetype": "text/x-python",
   "name": "python",
   "nbconvert_exporter": "python",
   "pygments_lexer": "ipython3",
   "version": "3.9.7"
  },
  "orig_nbformat": 4
 },
 "nbformat": 4,
 "nbformat_minor": 2
}
