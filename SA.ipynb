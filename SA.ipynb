{
 "cells": [
  {
   "cell_type": "code",
   "execution_count": 5,
   "metadata": {},
   "outputs": [],
   "source": [
    "import tweepy\n",
    "import pandas as pd\n",
    "import nltk\n",
    "import re"
   ]
  },
  {
   "cell_type": "code",
   "execution_count": 35,
   "metadata": {},
   "outputs": [
    {
     "data": {
      "text/plain": [
       "<Tweet id=1496234681142030342 text=RT @FastTrade_cedro: 🖥 Fechamento de Mercado (22/02/2022)\n",
       "\n",
       "📊 #Ibov 112.891 pontos (+1,04%) 🟢\n",
       "💵 #Dólar R$ 5,0480 (-1,16%) 🔴\n",
       "💶 #Euro R$ 5,724…>"
      ]
     },
     "execution_count": 35,
     "metadata": {},
     "output_type": "execute_result"
    }
   ],
   "source": [
    "# Obter Tokens \n",
    "with open(\"Twitter_API.txt\", \"r\", encoding=\"utf-8\") as f:\n",
    "    Tokens =  f.readlines()\n",
    "    f.close()\n",
    "\n",
    "# Inicializar objeto Client para pesquisa de Tweets\n",
    "Cliente = tweepy.Client(bearer_token=Tokens[-1], access_token=Tokens[1], access_token_secret=Tokens[4])\n",
    "\n",
    "# Teste para pesquisa de 100 tweets dos últimos sobre o IBOVESPA\n",
    "resultados = Cliente.search_recent_tweets(\"Ibovespa\", max_results=100, tweet_fields=\"created_at\")\n",
    "\n",
    "# Printar Primeiro Tweet\n",
    "resultados.data[1]"
   ]
  },
  {
   "cell_type": "code",
   "execution_count": 36,
   "metadata": {},
   "outputs": [
    {
     "data": {
      "text/plain": [
       "'rt @fasttrade_cedro 🖥 fechamento de mercado (22/02/2022  📊 #ibov 112891 pontos (+1,04% 🟢 💵 #dólar r$ 5,0480 (1,16% 🔴 💶 #euro r$ 5,724…'"
      ]
     },
     "execution_count": 36,
     "metadata": {},
     "output_type": "execute_result"
    }
   ],
   "source": [
    "# Remover Links e pontuação\n",
    "\n",
    "def remover_pontuacao(tweet):\n",
    "    tweet = str(tweet)\n",
    "    tweet = re.sub(r\"http\\S+\", \"\", tweet).lower().replace('.','').replace(';',''). \\\n",
    "    replace('-','').replace(':','').replace(')','').replace(\"!\", \"\").replace(\"\\n\", \" \")\n",
    "    return (tweet)\n",
    "\n",
    "for tweet in range(len(resultados.data)):\n",
    "    resultados.data[tweet] = remover_pontuacao(resultados.data[tweet])\n",
    "\n",
    "resultados.data[1]"
   ]
  }
 ],
 "metadata": {
  "interpreter": {
   "hash": "931c2896970f9f057d9fae61d338afeeeb91f116304f05fe78255052ba30b701"
  },
  "kernelspec": {
   "display_name": "Python 3.9.7 ('base')",
   "language": "python",
   "name": "python3"
  },
  "language_info": {
   "codemirror_mode": {
    "name": "ipython",
    "version": 3
   },
   "file_extension": ".py",
   "mimetype": "text/x-python",
   "name": "python",
   "nbconvert_exporter": "python",
   "pygments_lexer": "ipython3",
   "version": "3.9.7"
  },
  "orig_nbformat": 4
 },
 "nbformat": 4,
 "nbformat_minor": 2
}
