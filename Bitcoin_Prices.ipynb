{
 "cells": [
  {
   "cell_type": "code",
   "execution_count": 1,
   "metadata": {},
   "outputs": [],
   "source": [
    "# Importar Bibliotecas\n",
    "import yfinance as yf\n",
    "import pandas as pd"
   ]
  },
  {
   "cell_type": "code",
   "execution_count": 30,
   "metadata": {},
   "outputs": [
    {
     "data": {
      "text/html": [
       "<div>\n",
       "<style scoped>\n",
       "    .dataframe tbody tr th:only-of-type {\n",
       "        vertical-align: middle;\n",
       "    }\n",
       "\n",
       "    .dataframe tbody tr th {\n",
       "        vertical-align: top;\n",
       "    }\n",
       "\n",
       "    .dataframe thead th {\n",
       "        text-align: right;\n",
       "    }\n",
       "</style>\n",
       "<table border=\"1\" class=\"dataframe\">\n",
       "  <thead>\n",
       "    <tr style=\"text-align: right;\">\n",
       "      <th></th>\n",
       "      <th>Tweets</th>\n",
       "    </tr>\n",
       "  </thead>\n",
       "  <tbody>\n",
       "    <tr>\n",
       "      <th>2022-03-11 00:59:59+00:00</th>\n",
       "      <td>RT @whale_alert: 🚨 🚨 🚨 🚨 🚨 🚨 🚨 🚨 🚨 🚨  9,867 #B...</td>\n",
       "    </tr>\n",
       "    <tr>\n",
       "      <th>2022-03-11 00:59:59+00:00</th>\n",
       "      <td>RT @Ichi_Fibonacci: EL QUE NO ENTIENDE BITCOIN...</td>\n",
       "    </tr>\n",
       "    <tr>\n",
       "      <th>2022-03-11 00:59:59+00:00</th>\n",
       "      <td>RT @MediaMtp: Claim 40,00 MTP Tokens $40\\n20,0...</td>\n",
       "    </tr>\n",
       "    <tr>\n",
       "      <th>2022-03-11 00:59:59+00:00</th>\n",
       "      <td>RT @BtcWinnerMan: Do the tasks with Airdrop, e...</td>\n",
       "    </tr>\n",
       "    <tr>\n",
       "      <th>2022-03-11 00:59:58+00:00</th>\n",
       "      <td>According to a statement released by the US De...</td>\n",
       "    </tr>\n",
       "  </tbody>\n",
       "</table>\n",
       "</div>"
      ],
      "text/plain": [
       "                                                                      Tweets\n",
       "2022-03-11 00:59:59+00:00  RT @whale_alert: 🚨 🚨 🚨 🚨 🚨 🚨 🚨 🚨 🚨 🚨  9,867 #B...\n",
       "2022-03-11 00:59:59+00:00  RT @Ichi_Fibonacci: EL QUE NO ENTIENDE BITCOIN...\n",
       "2022-03-11 00:59:59+00:00  RT @MediaMtp: Claim 40,00 MTP Tokens $40\\n20,0...\n",
       "2022-03-11 00:59:59+00:00  RT @BtcWinnerMan: Do the tasks with Airdrop, e...\n",
       "2022-03-11 00:59:58+00:00  According to a statement released by the US De..."
      ]
     },
     "execution_count": 30,
     "metadata": {},
     "output_type": "execute_result"
    }
   ],
   "source": [
    "#Coletar Arquivo de Dados\n",
    "df = pd.read_csv(\"Data\\Tweets.csv\", sep=\";\", index_col=\"Unnamed: 0\")\n",
    "df.head()"
   ]
  },
  {
   "cell_type": "code",
   "execution_count": 35,
   "metadata": {},
   "outputs": [
    {
     "data": {
      "text/plain": [
       "'2022-03-02'"
      ]
     },
     "execution_count": 35,
     "metadata": {},
     "output_type": "execute_result"
    }
   ],
   "source": [
    "# Coletar a data do primeiro tweet coletado\n",
    "inicio = df.index.min()\n",
    "inicio = inicio[:10]\n",
    "inicio"
   ]
  },
  {
   "cell_type": "code",
   "execution_count": 36,
   "metadata": {},
   "outputs": [
    {
     "data": {
      "text/plain": [
       "'2022-03-11'"
      ]
     },
     "execution_count": 36,
     "metadata": {},
     "output_type": "execute_result"
    }
   ],
   "source": [
    "# Coletar data do último tweet coletado\n",
    "# TODO Adicionar um ao dia, para coletar dados até 00:00 do último dia\n",
    "fim = df.index.max()\n",
    "fim = fim[:10]\n",
    "fim"
   ]
  },
  {
   "cell_type": "code",
   "execution_count": 26,
   "metadata": {},
   "outputs": [],
   "source": [
    "# Obter preços do BTC-USD em intervalos de uma hora desde o primeiro (Somente Preço em que a hora fecha)\n",
    "Precos = yf.Ticker(\"BTC-USD\").history(start=inicio, end=fim, interval=\"1h\")[\"Close\"]"
   ]
  },
  {
   "cell_type": "code",
   "execution_count": 31,
   "metadata": {},
   "outputs": [
    {
     "data": {
      "text/plain": [
       "2022-03-02 03:00:00+00:00    44370.246094\n",
       "2022-03-02 04:00:00+00:00    44273.210938\n",
       "2022-03-02 05:00:00+00:00    44279.015625\n",
       "2022-03-02 06:00:00+00:00    43945.468750\n",
       "2022-03-02 07:00:00+00:00    43913.273438\n",
       "Name: Close, dtype: float64"
      ]
     },
     "execution_count": 31,
     "metadata": {},
     "output_type": "execute_result"
    }
   ],
   "source": [
    "# Printar primeiros Preços\n",
    "Precos.head()"
   ]
  },
  {
   "cell_type": "code",
   "execution_count": 32,
   "metadata": {},
   "outputs": [
    {
     "data": {
      "text/plain": [
       "2022-03-10 22:00:00+00:00    39434.902344\n",
       "2022-03-10 23:00:00+00:00    39455.230469\n",
       "2022-03-11 00:00:00+00:00    39297.941406\n",
       "2022-03-11 01:00:00+00:00    38739.378906\n",
       "2022-03-11 02:00:00+00:00    38422.312500\n",
       "Name: Close, dtype: float64"
      ]
     },
     "execution_count": 32,
     "metadata": {},
     "output_type": "execute_result"
    }
   ],
   "source": [
    "# Printar Últimos valores\n",
    "Precos.tail()"
   ]
  },
  {
   "cell_type": "code",
   "execution_count": 41,
   "metadata": {},
   "outputs": [],
   "source": [
    "# Exportar Preços\n",
    "Precos.to_csv(\"Data\\Precos.csv\", sep=\";\")"
   ]
  }
 ],
 "metadata": {
  "interpreter": {
   "hash": "931c2896970f9f057d9fae61d338afeeeb91f116304f05fe78255052ba30b701"
  },
  "kernelspec": {
   "display_name": "Python 3.9.7 ('base')",
   "language": "python",
   "name": "python3"
  },
  "language_info": {
   "codemirror_mode": {
    "name": "ipython",
    "version": 3
   },
   "file_extension": ".py",
   "mimetype": "text/x-python",
   "name": "python",
   "nbconvert_exporter": "python",
   "pygments_lexer": "ipython3",
   "version": "3.9.7"
  },
  "orig_nbformat": 4
 },
 "nbformat": 4,
 "nbformat_minor": 2
}
