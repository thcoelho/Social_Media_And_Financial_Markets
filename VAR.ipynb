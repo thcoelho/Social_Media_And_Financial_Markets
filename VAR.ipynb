{
 "cells": [
  {
   "cell_type": "code",
   "execution_count": 1,
   "metadata": {},
   "outputs": [],
   "source": [
    "# Importar bibliotecas\n",
    "import pandas as pd\n",
    "from statsmodels.tsa.api import VAR"
   ]
  },
  {
   "cell_type": "code",
   "execution_count": 12,
   "metadata": {},
   "outputs": [
    {
     "data": {
      "text/html": [
       "<div>\n",
       "<style scoped>\n",
       "    .dataframe tbody tr th:only-of-type {\n",
       "        vertical-align: middle;\n",
       "    }\n",
       "\n",
       "    .dataframe tbody tr th {\n",
       "        vertical-align: top;\n",
       "    }\n",
       "\n",
       "    .dataframe thead th {\n",
       "        text-align: right;\n",
       "    }\n",
       "</style>\n",
       "<table border=\"1\" class=\"dataframe\">\n",
       "  <thead>\n",
       "    <tr style=\"text-align: right;\">\n",
       "      <th></th>\n",
       "      <th>Dia</th>\n",
       "      <th>Hora</th>\n",
       "      <th>Ret_Pct</th>\n",
       "      <th>Sentimento</th>\n",
       "    </tr>\n",
       "  </thead>\n",
       "  <tbody>\n",
       "    <tr>\n",
       "      <th>0</th>\n",
       "      <td>1</td>\n",
       "      <td>0</td>\n",
       "      <td>0.105774</td>\n",
       "      <td>60.9848</td>\n",
       "    </tr>\n",
       "    <tr>\n",
       "      <th>1</th>\n",
       "      <td>1</td>\n",
       "      <td>1</td>\n",
       "      <td>-1.028706</td>\n",
       "      <td>28.1278</td>\n",
       "    </tr>\n",
       "    <tr>\n",
       "      <th>2</th>\n",
       "      <td>1</td>\n",
       "      <td>2</td>\n",
       "      <td>-1.542335</td>\n",
       "      <td>32.2448</td>\n",
       "    </tr>\n",
       "    <tr>\n",
       "      <th>3</th>\n",
       "      <td>1</td>\n",
       "      <td>3</td>\n",
       "      <td>0.316499</td>\n",
       "      <td>17.8111</td>\n",
       "    </tr>\n",
       "    <tr>\n",
       "      <th>4</th>\n",
       "      <td>1</td>\n",
       "      <td>4</td>\n",
       "      <td>0.406862</td>\n",
       "      <td>20.1254</td>\n",
       "    </tr>\n",
       "  </tbody>\n",
       "</table>\n",
       "</div>"
      ],
      "text/plain": [
       "   Dia  Hora   Ret_Pct  Sentimento\n",
       "0    1     0  0.105774     60.9848\n",
       "1    1     1 -1.028706     28.1278\n",
       "2    1     2 -1.542335     32.2448\n",
       "3    1     3  0.316499     17.8111\n",
       "4    1     4  0.406862     20.1254"
      ]
     },
     "execution_count": 12,
     "metadata": {},
     "output_type": "execute_result"
    }
   ],
   "source": [
    "# Importar dados\n",
    "Dados = pd.read_csv(\"Data/Dados_Agregados.csv\")\n",
    "Dados.head()"
   ]
  },
  {
   "cell_type": "code",
   "execution_count": 14,
   "metadata": {},
   "outputs": [
    {
     "data": {
      "text/html": [
       "<div>\n",
       "<style scoped>\n",
       "    .dataframe tbody tr th:only-of-type {\n",
       "        vertical-align: middle;\n",
       "    }\n",
       "\n",
       "    .dataframe tbody tr th {\n",
       "        vertical-align: top;\n",
       "    }\n",
       "\n",
       "    .dataframe thead th {\n",
       "        text-align: right;\n",
       "    }\n",
       "</style>\n",
       "<table border=\"1\" class=\"dataframe\">\n",
       "  <thead>\n",
       "    <tr style=\"text-align: right;\">\n",
       "      <th></th>\n",
       "      <th></th>\n",
       "      <th>Ret_Pct</th>\n",
       "      <th>Sentimento</th>\n",
       "    </tr>\n",
       "    <tr>\n",
       "      <th>Dia</th>\n",
       "      <th>Hora</th>\n",
       "      <th></th>\n",
       "      <th></th>\n",
       "    </tr>\n",
       "  </thead>\n",
       "  <tbody>\n",
       "    <tr>\n",
       "      <th rowspan=\"5\" valign=\"top\">1</th>\n",
       "      <th>0</th>\n",
       "      <td>0.105774</td>\n",
       "      <td>60.9848</td>\n",
       "    </tr>\n",
       "    <tr>\n",
       "      <th>1</th>\n",
       "      <td>-1.028706</td>\n",
       "      <td>28.1278</td>\n",
       "    </tr>\n",
       "    <tr>\n",
       "      <th>2</th>\n",
       "      <td>-1.542335</td>\n",
       "      <td>32.2448</td>\n",
       "    </tr>\n",
       "    <tr>\n",
       "      <th>3</th>\n",
       "      <td>0.316499</td>\n",
       "      <td>17.8111</td>\n",
       "    </tr>\n",
       "    <tr>\n",
       "      <th>4</th>\n",
       "      <td>0.406862</td>\n",
       "      <td>20.1254</td>\n",
       "    </tr>\n",
       "    <tr>\n",
       "      <th>...</th>\n",
       "      <th>...</th>\n",
       "      <td>...</td>\n",
       "      <td>...</td>\n",
       "    </tr>\n",
       "    <tr>\n",
       "      <th rowspan=\"5\" valign=\"top\">31</th>\n",
       "      <th>18</th>\n",
       "      <td>0.171051</td>\n",
       "      <td>76.8724</td>\n",
       "    </tr>\n",
       "    <tr>\n",
       "      <th>19</th>\n",
       "      <td>-0.592884</td>\n",
       "      <td>112.7308</td>\n",
       "    </tr>\n",
       "    <tr>\n",
       "      <th>20</th>\n",
       "      <td>0.269113</td>\n",
       "      <td>80.6372</td>\n",
       "    </tr>\n",
       "    <tr>\n",
       "      <th>21</th>\n",
       "      <td>0.091761</td>\n",
       "      <td>118.1272</td>\n",
       "    </tr>\n",
       "    <tr>\n",
       "      <th>22</th>\n",
       "      <td>-0.024310</td>\n",
       "      <td>94.4044</td>\n",
       "    </tr>\n",
       "  </tbody>\n",
       "</table>\n",
       "<p>713 rows × 2 columns</p>\n",
       "</div>"
      ],
      "text/plain": [
       "           Ret_Pct  Sentimento\n",
       "Dia Hora                      \n",
       "1   0     0.105774     60.9848\n",
       "    1    -1.028706     28.1278\n",
       "    2    -1.542335     32.2448\n",
       "    3     0.316499     17.8111\n",
       "    4     0.406862     20.1254\n",
       "...            ...         ...\n",
       "31  18    0.171051     76.8724\n",
       "    19   -0.592884    112.7308\n",
       "    20    0.269113     80.6372\n",
       "    21    0.091761    118.1272\n",
       "    22   -0.024310     94.4044\n",
       "\n",
       "[713 rows x 2 columns]"
      ]
     },
     "execution_count": 14,
     "metadata": {},
     "output_type": "execute_result"
    }
   ],
   "source": [
    "# Criar índice\n",
    "Dados.set_index([\"Dia\", \"Hora\"], inplace=True)\n",
    "Dados"
   ]
  },
  {
   "cell_type": "code",
   "execution_count": 16,
   "metadata": {},
   "outputs": [
    {
     "data": {
      "text/plain": [
       "Ret_Pct       0\n",
       "Sentimento    0\n",
       "dtype: int64"
      ]
     },
     "execution_count": 16,
     "metadata": {},
     "output_type": "execute_result"
    }
   ],
   "source": [
    "# Procurar valores nulos\n",
    "Dados.isna().sum()"
   ]
  },
  {
   "cell_type": "code",
   "execution_count": 18,
   "metadata": {},
   "outputs": [
    {
     "name": "stderr",
     "output_type": "stream",
     "text": [
      "C:\\Users\\Thiago\\miniconda3\\lib\\site-packages\\statsmodels\\tsa\\base\\tsa_model.py:471: ValueWarning: An unsupported index was provided and will be ignored when e.g. forecasting.\n",
      "  self._init_dates(dates, freq)\n"
     ]
    }
   ],
   "source": [
    "# Criar Modelo\n",
    "Modelo = VAR(Dados)"
   ]
  },
  {
   "cell_type": "code",
   "execution_count": 21,
   "metadata": {},
   "outputs": [
    {
     "data": {
      "text/plain": [
       "  Summary of Regression Results   \n",
       "==================================\n",
       "Model:                         VAR\n",
       "Method:                        OLS\n",
       "Date:           Tue, 19, Apr, 2022\n",
       "Time:                     10:39:00\n",
       "--------------------------------------------------------------------\n",
       "No. of Equations:         2.00000    BIC:                    4.11589\n",
       "Nobs:                     712.000    HQIC:                   4.09227\n",
       "Log likelihood:          -3466.12    FPE:                    58.9917\n",
       "AIC:                      4.07740    Det(Omega_mle):         58.4978\n",
       "--------------------------------------------------------------------\n",
       "Results for equation Ret_Pct\n",
       "================================================================================\n",
       "                   coefficient       std. error           t-stat            prob\n",
       "--------------------------------------------------------------------------------\n",
       "const                 0.049094         0.041904            1.172           0.241\n",
       "L1.Ret_Pct            0.052327         0.037493            1.396           0.163\n",
       "L1.Sentimento        -0.001315         0.001204           -1.092           0.275\n",
       "================================================================================\n",
       "\n",
       "Results for equation Sentimento\n",
       "================================================================================\n",
       "                   coefficient       std. error           t-stat            prob\n",
       "--------------------------------------------------------------------------------\n",
       "const                 8.260238         0.916498            9.013           0.000\n",
       "L1.Ret_Pct           -0.463117         0.820021           -0.565           0.572\n",
       "L1.Sentimento         0.721955         0.026336           27.414           0.000\n",
       "================================================================================\n",
       "\n",
       "Correlation matrix of residuals\n",
       "               Ret_Pct  Sentimento\n",
       "Ret_Pct       1.000000   -0.005927\n",
       "Sentimento   -0.005927    1.000000\n",
       "\n"
      ]
     },
     "execution_count": 21,
     "metadata": {},
     "output_type": "execute_result"
    }
   ],
   "source": [
    "# Fitar modelo\n",
    "Modelo_Treinado = Modelo.fit()\n",
    "\n",
    "# Printar Sumário dos resultados\n",
    "Modelo_Treinado.summary()"
   ]
  }
 ],
 "metadata": {
  "interpreter": {
   "hash": "b6ecb6f938e07719b005789865e46e47d79f55cc65aad37ae5bbd9c37a357cec"
  },
  "kernelspec": {
   "display_name": "Python 3.9.12 ('base')",
   "language": "python",
   "name": "python3"
  },
  "language_info": {
   "codemirror_mode": {
    "name": "ipython",
    "version": 3
   },
   "file_extension": ".py",
   "mimetype": "text/x-python",
   "name": "python",
   "nbconvert_exporter": "python",
   "pygments_lexer": "ipython3",
   "version": "3.9.12"
  },
  "orig_nbformat": 4
 },
 "nbformat": 4,
 "nbformat_minor": 2
}
